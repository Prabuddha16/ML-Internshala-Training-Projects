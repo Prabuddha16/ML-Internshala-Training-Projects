{
 "cells": [
  {
   "cell_type": "markdown",
   "metadata": {},
   "source": [
    "# Task: To implement Bagging technique using 100 decision trees"
   ]
  },
  {
   "cell_type": "code",
   "execution_count": 1,
   "metadata": {},
   "outputs": [],
   "source": [
    "# importing necessary libraries\n",
    "import pandas as pd\n",
    "import numpy as np"
   ]
  },
  {
   "cell_type": "code",
   "execution_count": 2,
   "metadata": {},
   "outputs": [
    {
     "output_type": "execute_result",
     "data": {
      "text/plain": "   customer_id  vintage  age  gender  dependents  occupation    city  \\\n0            1     3135   66       0         0.0           0   187.0   \n1            6     2531   42       0         2.0           0  1494.0   \n2            7      263   42       1         0.0           0  1096.0   \n3            8     5922   72       0         0.0           1  1020.0   \n4            9     1145   46       0         0.0           0   623.0   \n\n   customer_nw_category  branch_code  days_since_last_transaction  ...  \\\n0                     2          755                        224.0  ...   \n1                     3          388                         58.0  ...   \n2                     2         1666                         60.0  ...   \n3                     1            1                         98.0  ...   \n4                     2          317                        172.0  ...   \n\n   previous_month_end_balance  average_monthly_balance_prevQ  \\\n0                     1458.71                        1458.71   \n1                     1401.72                        1643.31   \n2                    16059.34                       15211.29   \n3                     7714.19                        7859.74   \n4                     8519.53                        6511.82   \n\n   average_monthly_balance_prevQ2  current_month_credit  \\\n0                         1449.07                  0.20   \n1                         1871.12                  0.33   \n2                        13798.82                  0.36   \n3                        11232.37                  0.64   \n4                        16314.17                  0.27   \n\n   previous_month_credit  current_month_debit  previous_month_debit  \\\n0                   0.20                 0.20                  0.20   \n1                 714.61               588.62               1538.06   \n2                   0.36               857.50                286.07   \n3                   0.64              1299.64                439.26   \n4                   0.27               443.13               5688.44   \n\n   current_month_balance  previous_month_balance  churn  \n0                1458.71                 1458.71      0  \n1                1157.15                 1677.16      1  \n2               15719.44                15349.75      0  \n3                7076.06                 7755.98      0  \n4                8563.84                 5317.04      0  \n\n[5 rows x 21 columns]",
      "text/html": "<div>\n<style scoped>\n    .dataframe tbody tr th:only-of-type {\n        vertical-align: middle;\n    }\n\n    .dataframe tbody tr th {\n        vertical-align: top;\n    }\n\n    .dataframe thead th {\n        text-align: right;\n    }\n</style>\n<table border=\"1\" class=\"dataframe\">\n  <thead>\n    <tr style=\"text-align: right;\">\n      <th></th>\n      <th>customer_id</th>\n      <th>vintage</th>\n      <th>age</th>\n      <th>gender</th>\n      <th>dependents</th>\n      <th>occupation</th>\n      <th>city</th>\n      <th>customer_nw_category</th>\n      <th>branch_code</th>\n      <th>days_since_last_transaction</th>\n      <th>...</th>\n      <th>previous_month_end_balance</th>\n      <th>average_monthly_balance_prevQ</th>\n      <th>average_monthly_balance_prevQ2</th>\n      <th>current_month_credit</th>\n      <th>previous_month_credit</th>\n      <th>current_month_debit</th>\n      <th>previous_month_debit</th>\n      <th>current_month_balance</th>\n      <th>previous_month_balance</th>\n      <th>churn</th>\n    </tr>\n  </thead>\n  <tbody>\n    <tr>\n      <th>0</th>\n      <td>1</td>\n      <td>3135</td>\n      <td>66</td>\n      <td>0</td>\n      <td>0.0</td>\n      <td>0</td>\n      <td>187.0</td>\n      <td>2</td>\n      <td>755</td>\n      <td>224.0</td>\n      <td>...</td>\n      <td>1458.71</td>\n      <td>1458.71</td>\n      <td>1449.07</td>\n      <td>0.20</td>\n      <td>0.20</td>\n      <td>0.20</td>\n      <td>0.20</td>\n      <td>1458.71</td>\n      <td>1458.71</td>\n      <td>0</td>\n    </tr>\n    <tr>\n      <th>1</th>\n      <td>6</td>\n      <td>2531</td>\n      <td>42</td>\n      <td>0</td>\n      <td>2.0</td>\n      <td>0</td>\n      <td>1494.0</td>\n      <td>3</td>\n      <td>388</td>\n      <td>58.0</td>\n      <td>...</td>\n      <td>1401.72</td>\n      <td>1643.31</td>\n      <td>1871.12</td>\n      <td>0.33</td>\n      <td>714.61</td>\n      <td>588.62</td>\n      <td>1538.06</td>\n      <td>1157.15</td>\n      <td>1677.16</td>\n      <td>1</td>\n    </tr>\n    <tr>\n      <th>2</th>\n      <td>7</td>\n      <td>263</td>\n      <td>42</td>\n      <td>1</td>\n      <td>0.0</td>\n      <td>0</td>\n      <td>1096.0</td>\n      <td>2</td>\n      <td>1666</td>\n      <td>60.0</td>\n      <td>...</td>\n      <td>16059.34</td>\n      <td>15211.29</td>\n      <td>13798.82</td>\n      <td>0.36</td>\n      <td>0.36</td>\n      <td>857.50</td>\n      <td>286.07</td>\n      <td>15719.44</td>\n      <td>15349.75</td>\n      <td>0</td>\n    </tr>\n    <tr>\n      <th>3</th>\n      <td>8</td>\n      <td>5922</td>\n      <td>72</td>\n      <td>0</td>\n      <td>0.0</td>\n      <td>1</td>\n      <td>1020.0</td>\n      <td>1</td>\n      <td>1</td>\n      <td>98.0</td>\n      <td>...</td>\n      <td>7714.19</td>\n      <td>7859.74</td>\n      <td>11232.37</td>\n      <td>0.64</td>\n      <td>0.64</td>\n      <td>1299.64</td>\n      <td>439.26</td>\n      <td>7076.06</td>\n      <td>7755.98</td>\n      <td>0</td>\n    </tr>\n    <tr>\n      <th>4</th>\n      <td>9</td>\n      <td>1145</td>\n      <td>46</td>\n      <td>0</td>\n      <td>0.0</td>\n      <td>0</td>\n      <td>623.0</td>\n      <td>2</td>\n      <td>317</td>\n      <td>172.0</td>\n      <td>...</td>\n      <td>8519.53</td>\n      <td>6511.82</td>\n      <td>16314.17</td>\n      <td>0.27</td>\n      <td>0.27</td>\n      <td>443.13</td>\n      <td>5688.44</td>\n      <td>8563.84</td>\n      <td>5317.04</td>\n      <td>0</td>\n    </tr>\n  </tbody>\n</table>\n<p>5 rows × 21 columns</p>\n</div>"
     },
     "metadata": {},
     "execution_count": 2
    }
   ],
   "source": [
    "# importing data\n",
    "data = pd.read_csv('churn_prediction_simple.csv')\n",
    "data.head()"
   ]
  },
  {
   "cell_type": "code",
   "execution_count": 3,
   "metadata": {},
   "outputs": [],
   "source": [
    "predictors = data.drop(columns=['churn','customer_id'])\n",
    "target = data['churn']"
   ]
  },
  {
   "cell_type": "markdown",
   "metadata": {},
   "source": [
    "## Steps to implement bagging technique with \"n\" number of trees\n",
    "1. Determine the (n_trees) number of trees\n",
    "2. Make (n_trees) number of bootstrap samples\n",
    "3. For each bootstrap samples build a decision tree model and generate predictions\n",
    "4. For every observation in test set, calculate the model of predictions made by n_trees"
   ]
  },
  {
   "cell_type": "code",
   "execution_count": 4,
   "metadata": {},
   "outputs": [
    {
     "output_type": "execute_result",
     "data": {
      "text/plain": "((16550, 21), (5517, 21))"
     },
     "metadata": {},
     "execution_count": 4
    }
   ],
   "source": [
    "#splitting data\n",
    "train = data.sample(frac=0.75, replace = False)\n",
    "test = data.append(train)\n",
    "test = test.drop_duplicates(keep=False)\n",
    "\n",
    "#check\n",
    "train.shape, test.shape"
   ]
  },
  {
   "cell_type": "code",
   "execution_count": 5,
   "metadata": {},
   "outputs": [],
   "source": [
    "# step1 : Setting n_trees_trees\n",
    "n_trees = 100"
   ]
  },
  {
   "cell_type": "code",
   "execution_count": 6,
   "metadata": {},
   "outputs": [],
   "source": [
    "# step2 : Making n_trees bootstrap samples (hint: search pd.sample() function)\n",
    "\n",
    "def BootStrap(data, n_samples, fraction = 1):\n",
    "    '''\n",
    "    function to generate boot strap samples.\n",
    "    data : data to generate bootstrap samples from\n",
    "    n_samples : number of samples to create\n",
    "    fraction : what fraction of data should be each sample (default=1)\n",
    "\n",
    "    Return: a numpy matrix of N,M elements. where N=samples and M=observation in each sample\n",
    "    '''\n",
    "    bootstraps = np.zeros(shape = (int(data.shape[0]*fraction), data.shape[1], n_samples))\n",
    "\n",
    "    for i in range(n_samples):\n",
    "        bootstraps[:,:,i] = data.sample(frac=fraction, replace=True).values\n",
    "\n",
    "    return bootstraps"
   ]
  },
  {
   "cell_type": "code",
   "execution_count": 7,
   "metadata": {},
   "outputs": [
    {
     "output_type": "stream",
     "name": "stdout",
     "text": "observations, columns, samples\n(16550, 21, 100)\n(12412, 21, 100)\n(8275, 21, 100)\n"
    }
   ],
   "source": [
    "# Testing function (do not change)\n",
    "print('observations, columns, samples')\n",
    "print(BootStrap(train, n_trees, fraction=1).shape)\n",
    "print(BootStrap(train, n_trees, fraction=0.75).shape)\n",
    "print(BootStrap(train, n_trees, fraction=0.5).shape)"
   ]
  },
  {
   "cell_type": "markdown",
   "metadata": {},
   "source": [
    "### Expected Outcome\n",
    "\n",
    "<img src=\"images/image1.png\">"
   ]
  },
  {
   "cell_type": "code",
   "execution_count": 8,
   "metadata": {},
   "outputs": [],
   "source": [
    "# Step3.1 : create a function called generate predictions which will train a decision tree model over one bootstrap sample and return its predictions on test set\n",
    "\n",
    "def generate_predictions(train_x, train_y, test_x):\n",
    "    '''\n",
    "    train_x: independent variables of sample\n",
    "    train_y: target variable of sample\n",
    "    test_x: independent variables of test data\n",
    "\n",
    "    Return: prediction for the test_x\n",
    "    '''\n",
    "    from sklearn.tree import DecisionTreeClassifier\n",
    "    classifier = DecisionTreeClassifier(max_depth=7, class_weight='balanced')\n",
    "    classifier.fit(train_x, train_y)\n",
    "    predictions = classifier.predict(test_x)\n",
    "    return predictions"
   ]
  },
  {
   "cell_type": "code",
   "execution_count": 9,
   "metadata": {},
   "outputs": [
    {
     "output_type": "stream",
     "name": "stdout",
     "text": "Expected length of predictions: 5517\ngenerated predictions shape:  5517\n"
    }
   ],
   "source": [
    "## testing function\n",
    "print('Expected length of predictions:', test.shape[0])\n",
    "print(\"generated predictions shape: \",generate_predictions(train.drop(columns=['churn']), train['churn'], test.drop(columns=['churn'])).size)\n",
    "# output numbers should be same"
   ]
  },
  {
   "cell_type": "code",
   "execution_count": 10,
   "metadata": {},
   "outputs": [],
   "source": [
    "#Step3.2 : Create a function called Bagging which uses the generate_prediction and bootstrap functions to generate predictions for all the bootstrap samples and calculate mode of predictions for eachhh sample.\n",
    "\n",
    "def Bagging(n_trees, train_data, test_data, sample_fraction):\n",
    "    '''\n",
    "    N-trees: number of trees\n",
    "    Return: final predictions of overall bagging technique\n",
    "    '''\n",
    "    bootstrap_samples = BootStrap(train_data, n_samples = n_trees, fraction = sample_fraction)\n",
    "    multi_predictions = np.zeros(shape = (int(test_data.shape[0]),n_trees))\n",
    "    \n",
    "    for i in range(n_trees):\n",
    "        tmp = generate_predictions(bootstrap_samples[:,:-1,i],bootstrap_samples[:,-1,i], test_data.drop(columns=['churn']))\n",
    "        multi_predictions[:,i] = tmp\n",
    "    \n",
    "    from scipy.stats import mode\n",
    "    final_prediction = mode(multi_predictions,axis=1)\n",
    "    return final_prediction[0]"
   ]
  },
  {
   "cell_type": "code",
   "execution_count": 11,
   "metadata": {},
   "outputs": [
    {
     "output_type": "execute_result",
     "data": {
      "text/plain": "array([[0.],\n       [1.],\n       [0.],\n       ...,\n       [0.],\n       [0.],\n       [0.]])"
     },
     "metadata": {},
     "execution_count": 11
    }
   ],
   "source": [
    "(Bagging(n_trees, train, test, 1))"
   ]
  },
  {
   "cell_type": "code",
   "execution_count": null,
   "metadata": {},
   "outputs": [],
   "source": []
  }
 ],
 "metadata": {
  "language_info": {
   "codemirror_mode": {
    "name": "ipython",
    "version": 3
   },
   "file_extension": ".py",
   "mimetype": "text/x-python",
   "name": "python",
   "nbconvert_exporter": "python",
   "pygments_lexer": "ipython3",
   "version": "3.5.3-final"
  },
  "orig_nbformat": 2,
  "kernelspec": {
   "name": "python35364bit5527b3f40af34bed895ca03a834eda96",
   "display_name": "Python 3.5.3 64-bit"
  }
 },
 "nbformat": 4,
 "nbformat_minor": 2
}