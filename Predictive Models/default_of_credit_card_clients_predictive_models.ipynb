{
  "nbformat": 4,
  "nbformat_minor": 0,
  "metadata": {
    "kernelspec": {
      "display_name": "Python 3",
      "language": "python",
      "name": "python3"
    },
    "language_info": {
      "name": "python",
      "version": "3.6.6",
      "mimetype": "text/x-python",
      "codemirror_mode": {
        "name": "ipython",
        "version": 3
      },
      "pygments_lexer": "ipython3",
      "nbconvert_exporter": "python",
      "file_extension": ".py"
    },
    "colab": {
      "name": "default-of-credit-card-clients-predictive-models.ipynb",
      "provenance": [],
      "collapsed_sections": [
        "pFWBJOpp1uAQ",
        "-YC4IcqE1uAW",
        "V-BrOL_y1uAa",
        "Reeozq8l1uAh",
        "1xtjRXsA1uAj",
        "KNxAuFFi1uAu",
        "M9jsAB-T1uAw",
        "xHb_6lqx1uA5",
        "VClfOmJg1uBc",
        "iTtecKG41uBh",
        "UrVO5yxa1uBs",
        "Ats4mRrs1uBv",
        "Ln4W5ssc1uBz",
        "PXJwESyw1uB3",
        "r3bJhC-F1uB9",
        "G93l-Vqh1uCA",
        "VM51CEDv1uCF",
        "4zasErjL1uCP",
        "h83lhNGm1uCT",
        "3N6JX7IO1uCV",
        "AAoEoGoh1uCX",
        "Faz_ek_K1uCa",
        "evitOpPE1uCc",
        "ueIpZR241uCs",
        "gwQKDA941uCv",
        "3oTb1dBc1uCz",
        "2AFdk__L1uC3"
      ],
      "toc_visible": true
    }
  },
  "cells": [
    {
      "cell_type": "markdown",
      "metadata": {
        "_uuid": "e8ae7a3d49eb4c957af467a68957ae2637e80d71",
        "id": "3pz3XLgr1t_E",
        "colab_type": "text"
      },
      "source": [
        "<h1><center><font size=\"6\">Default of Credit Card Clients - Predictive Models</font></center></h1>\n",
        "\n",
        "\n",
        "\n",
        "# Contents\n",
        "\n",
        "- Introduction  \n",
        "- Load packages \n",
        "- Read the data\n",
        "- Check the data \n",
        "    - Glimpse the data\n",
        "    - Check missing data\n",
        "    - Check data imbalance\n",
        "- Data exploration\n",
        "- Predictive models\n",
        "    - RandomForrestClassifier\n",
        "    - AdaBoostClassifier\n",
        "    - CatBoostClassifier\n",
        "    - XGBoost\n",
        "    - LightGBM\n",
        "- Conclusions\n",
        "- References\n"
      ]
    },
    {
      "cell_type": "markdown",
      "metadata": {
        "_uuid": "59c14ee24fdc95ffb0163222bb5cfbed7b16678e",
        "id": "XLWceOWM1t_G",
        "colab_type": "text"
      },
      "source": [
        "# Introduction\n",
        "\n",
        "\n",
        "## Dataset\n",
        "\n",
        "This dataset contains information on default payments, demographic factors, credit data, history of payment, and bill statements of credit card clients in Taiwan from **April 2005** to **September 2005**. \n",
        "\n",
        "## Content\n",
        "\n",
        "There are 25 variables:\n",
        "\n",
        "* **ID**: ID of each client\n",
        "* **LIMIT_BAL**: Amount of given credit in NT dollars (includes individual and family/supplementary credit\n",
        "* **SEX**: Gender (1=male, 2=female)\n",
        "* **EDUCATION**: (1=graduate school, 2=university, 3=high school, 4=others, 5=unknown, 6=unknown)\n",
        "* **MARRIAGE**: Marital status (1=married, 2=single, 3=others)\n",
        "* **AGE**: Age in years\n",
        "* **PAY_0**: Repayment status in September, 2005 (-1=pay duly, 1=payment delay for one month, 2=payment delay for two months, ... 8=payment delay for eight months, 9=payment delay for nine months and above)\n",
        "* **PAY_2**: Repayment status in August, 2005 (scale same as above)\n",
        "* **PAY_3**: Repayment status in July, 2005 (scale same as above)\n",
        "* **PAY_4**: Repayment status in June, 2005 (scale same as above)\n",
        "* **PAY_5**: Repayment status in May, 2005 (scale same as above)\n",
        "* **PAY_6**: Repayment status in April, 2005 (scale same as above)\n",
        "* **BILL_AMT1**: Amount of bill statement in September, 2005 (NT dollar)\n",
        "* **BILL_AMT2**: Amount of bill statement in August, 2005 (NT dollar)\n",
        "* **BILL_AMT3**: Amount of bill statement in July, 2005 (NT dollar)\n",
        "* **BILL_AMT4**: Amount of bill statement in June, 2005 (NT dollar)\n",
        "* **BILL_AMT5**: Amount of bill statement in May, 2005 (NT dollar)\n",
        "* **BILL_AMT6**: Amount of bill statement in April, 2005 (NT dollar)\n",
        "* **PAY_AMT1**: Amount of previous payment in September, 2005 (NT dollar)\n",
        "* **PAY_AMT2**: Amount of previous payment in August, 2005 (NT dollar)\n",
        "* **PAY_AMT3**: Amount of previous payment in July, 2005 (NT dollar)\n",
        "* **PAY_AMT4**: Amount of previous payment in June, 2005 (NT dollar)\n",
        "* **PAY_AMT5**: Amount of previous payment in May, 2005 (NT dollar)\n",
        "* **PAY_AMT6**: Amount of previous payment in April, 2005 (NT dollar)\n",
        "* **default.payment.next.month**: Default payment (1=yes, 0=no)\n",
        "\n"
      ]
    },
    {
      "cell_type": "markdown",
      "metadata": {
        "_uuid": "206cbdfdcc23a7b80878572a73aa4e16e38a568a",
        "id": "Kytpsi_M1t_I",
        "colab_type": "text"
      },
      "source": [
        "# Load packages\n"
      ]
    },
    {
      "cell_type": "code",
      "metadata": {
        "_uuid": "39eb918049391b864c6d5f9dfd3ce5807584cfe9",
        "trusted": true,
        "id": "dJev9qFW1t_J",
        "colab_type": "code",
        "colab": {}
      },
      "source": [
        "import pandas as pd \n",
        "import numpy as np\n",
        "import matplotlib\n",
        "import matplotlib.pyplot as plt\n",
        "import seaborn as sns\n",
        "%matplotlib inline \n",
        "\n",
        "import gc\n",
        "from datetime import datetime \n",
        "from sklearn.model_selection import train_test_split\n",
        "from sklearn.metrics import roc_auc_score\n",
        "from sklearn.ensemble import RandomForestClassifier"
      ],
      "execution_count": 0,
      "outputs": []
    },
    {
      "cell_type": "markdown",
      "metadata": {
        "_uuid": "27818289f04036c3026d48f2eabcf6f38263ea4f",
        "id": "3xyYz6tv1t_Q",
        "colab_type": "text"
      },
      "source": [
        "# Read the data"
      ]
    },
    {
      "cell_type": "code",
      "metadata": {
        "_uuid": "28a631e66df7507ef44cb67201226dc799f08ad2",
        "trusted": true,
        "id": "8DwF2uln1t_Q",
        "colab_type": "code",
        "colab": {}
      },
      "source": [
        "# header 1 ensures that row at index 1 is used as column name header\n",
        "data = pd.read_excel('default of credit card clients.xls', header = 1)"
      ],
      "execution_count": 0,
      "outputs": []
    },
    {
      "cell_type": "markdown",
      "metadata": {
        "_uuid": "eaed36728b51950cdee59ce028f6d16b3bfb0363",
        "id": "Y7zQ3D3z1t_U",
        "colab_type": "text"
      },
      "source": [
        "# Check the data"
      ]
    },
    {
      "cell_type": "code",
      "metadata": {
        "_uuid": "56e5bea59ca29389f818b03cfdb33209636fc868",
        "trusted": true,
        "id": "wB4L7Zul1t_V",
        "colab_type": "code",
        "colab": {}
      },
      "source": [
        "print(\"Default Credit Card Clients data -  rows:\",data.shape[0],\" columns:\", data.shape[1])"
      ],
      "execution_count": 0,
      "outputs": []
    },
    {
      "cell_type": "markdown",
      "metadata": {
        "_uuid": "db00be74b6c6b7a0fab8c8fcfb681172ca436547",
        "id": "M_kdVUEF1t_a",
        "colab_type": "text"
      },
      "source": [
        "## Glimpse the data\n",
        "\n",
        "We start by looking to the data features (first 5 rows)."
      ]
    },
    {
      "cell_type": "code",
      "metadata": {
        "_uuid": "4ddde8e6a24eb6ca1044838064b61745535422ae",
        "trusted": true,
        "id": "_mt1vKsa1t_a",
        "colab_type": "code",
        "colab": {}
      },
      "source": [
        "data.head()"
      ],
      "execution_count": 0,
      "outputs": []
    },
    {
      "cell_type": "markdown",
      "metadata": {
        "_uuid": "80262c57b20a42f6f9bbda4e8c73ad80d137b8f7",
        "id": "OYkt7be01t_c",
        "colab_type": "text"
      },
      "source": [
        "Let's look into more details to the data."
      ]
    },
    {
      "cell_type": "code",
      "metadata": {
        "_uuid": "3912ba81657dec0482d93e0d3363592bda85398d",
        "trusted": true,
        "id": "0P327_r91t_d",
        "colab_type": "code",
        "colab": {}
      },
      "source": [
        "data.describe()"
      ],
      "execution_count": 0,
      "outputs": []
    },
    {
      "cell_type": "markdown",
      "metadata": {
        "_uuid": "f6ddff00531bf0fb0426ae16439b0c85209fec20",
        "id": "hXCawXaF1t_g",
        "colab_type": "text"
      },
      "source": [
        "* There are 30,000 distinct credit card clients.  \n",
        "\n",
        "* The average value for the amount of credit card limit is 167,484. The standard deviation is unusually large, max value being 1M.\n",
        "\n",
        "* Education level is mostly graduate school and university.\n",
        "\n",
        "* Most of the clients are either marrined or single (less frequent the other status).\n",
        "\n",
        "* Average age is 35.5 years, with a standard deviation of 9.2.\n",
        "\n",
        "* As the value 0 for default payment means 'not default' and value 1 means 'default', the mean of 0.221 means that there are 22.1% of credit card contracts that will default next month (will verify this in the next sections of this analysis).\n"
      ]
    },
    {
      "cell_type": "markdown",
      "metadata": {
        "_uuid": "6ad232af9cc809e5c3d4a845e84f6040acdc0092",
        "id": "qJFffmrk1t_g",
        "colab_type": "text"
      },
      "source": [
        "## Check missing data\n",
        "\n",
        "Let's check if there is any missing data."
      ]
    },
    {
      "cell_type": "code",
      "metadata": {
        "_uuid": "f2bdced82e9bb59ec24ac299085923f2e6ac1443",
        "trusted": true,
        "id": "F6qIBelg1t_h",
        "colab_type": "code",
        "colab": {}
      },
      "source": [
        "# total missing data\n",
        "total = data.isnull().sum().sort_values(ascending = False)\n",
        "\n",
        "# missing data interms of percentage with respect to complete data\n",
        "percent = (data.isnull().sum()/data.isnull().count()*100).sort_values(ascending = False)\n",
        "\n",
        "# printing information in dataframe format\n",
        "pd.concat([total, percent], axis=1, keys=['Total', 'Percent']).transpose()"
      ],
      "execution_count": 0,
      "outputs": []
    },
    {
      "cell_type": "markdown",
      "metadata": {
        "_uuid": "5511ffa0221787a74267be037ef69b78f27d376a",
        "id": "4AlKLOfm1t_m",
        "colab_type": "text"
      },
      "source": [
        "* There is no missing data in the entire dataset."
      ]
    },
    {
      "cell_type": "markdown",
      "metadata": {
        "_uuid": "8c2e96567145b1a38cd61dd923897da4723466c7",
        "id": "xpn7njTO1t_m",
        "colab_type": "text"
      },
      "source": [
        "## Data imbalance"
      ]
    },
    {
      "cell_type": "markdown",
      "metadata": {
        "_uuid": "eef10eb62d24eae34579d9ac6f5a517ddb71e5a6",
        "id": "90CGoMdq1t_n",
        "colab_type": "text"
      },
      "source": [
        "Let's check data imbalance with respect with *target* value, i.e. **default payment next month**."
      ]
    },
    {
      "cell_type": "code",
      "metadata": {
        "_uuid": "67c4920c60ce33313ae3bedbd82c14c5bd49c5a1",
        "trusted": true,
        "id": "8w08sybs1t_o",
        "colab_type": "code",
        "colab": {}
      },
      "source": [
        "# calculating value counts in the target variable and storing in dataframe\n",
        "temp = data[\"default payment next month\"].value_counts(normalize=True)\n",
        "df = pd.DataFrame({'default payment next month': temp.index,'values': temp.values})\n",
        "\n",
        "# plotting\n",
        "plt.figure(dpi = 140)\n",
        "plt.title('Checking data imbalance \\n (Default = 0, Not Default = 1)')\n",
        "plt.bar(df['default payment next month'], df['values'])\n",
        "plt.show()"
      ],
      "execution_count": 0,
      "outputs": []
    },
    {
      "cell_type": "markdown",
      "metadata": {
        "_uuid": "c7ebb8773d38e903073e1d3b721f772ca0984f98",
        "id": "I3V9LBqh1t_r",
        "colab_type": "text"
      },
      "source": [
        "A number of **6,636** out of **30,000** (or **22%**) of clients will default next month. The data has not a large unbalance with respect of the target value (default.payment.next.month)."
      ]
    },
    {
      "cell_type": "markdown",
      "metadata": {
        "_uuid": "8b0e7324cb445d29098fdb9f6208a14c77f7f8a7",
        "id": "wOE2NS3R1t_r",
        "colab_type": "text"
      },
      "source": [
        "# Data exploration"
      ]
    },
    {
      "cell_type": "markdown",
      "metadata": {
        "_uuid": "38e84dcf84e5896a316f08ab6229566ff8b60904",
        "id": "4qYab6ke1t_s",
        "colab_type": "text"
      },
      "source": [
        "## Amount of credit limit "
      ]
    },
    {
      "cell_type": "code",
      "metadata": {
        "_uuid": "0b7032c010899f834f3f88733252681c303234d0",
        "trusted": true,
        "id": "I1PeiZIu1t_t",
        "colab_type": "code",
        "colab": {}
      },
      "source": [
        "plt.figure(figsize = (14,6))\n",
        "plt.title('Amount of credit limit - Density Plot')\n",
        "sns.set_color_codes(\"pastel\")\n",
        "sns.distplot(data['LIMIT_BAL'],kde=True,bins=200, color=\"blue\")\n",
        "plt.show()"
      ],
      "execution_count": 0,
      "outputs": []
    },
    {
      "cell_type": "markdown",
      "metadata": {
        "_uuid": "5fba2d715f95af762f9dfaeb3d99bbb0bb57a57f",
        "id": "nkCbZ_dr1t_v",
        "colab_type": "text"
      },
      "source": [
        "Largest group of amount of credit limit is apparently for amount of 50K. Let's verify this."
      ]
    },
    {
      "cell_type": "code",
      "metadata": {
        "_uuid": "8cd18216790a60a629727243f1f1ab653bec74c3",
        "trusted": true,
        "id": "oFcuV6cI1t_v",
        "colab_type": "code",
        "colab": {}
      },
      "source": [
        "data['LIMIT_BAL'].value_counts().shape"
      ],
      "execution_count": 0,
      "outputs": []
    },
    {
      "cell_type": "markdown",
      "metadata": {
        "_uuid": "fe97906bb5449a468e13c985570e1130a7783014",
        "id": "Z91hkyep1t_y",
        "colab_type": "text"
      },
      "source": [
        "There are 81 distinct values for amount of credit limit."
      ]
    },
    {
      "cell_type": "code",
      "metadata": {
        "_uuid": "d3a0a2910f74d03dca2642b6c2220f54cffa57cd",
        "trusted": true,
        "id": "cners2-b1t_y",
        "colab_type": "code",
        "colab": {}
      },
      "source": [
        "data['LIMIT_BAL'].value_counts().head(5)"
      ],
      "execution_count": 0,
      "outputs": []
    },
    {
      "cell_type": "markdown",
      "metadata": {
        "_uuid": "244921c20997e95c9c13dba45b49a5c2831b0baa",
        "id": "1kZZGbu21t_3",
        "colab_type": "text"
      },
      "source": [
        "Indeed, the largest number of credit cards are with limit of 50,000 (3365), followed by 20,000 (1976) and 30,000 (1610)."
      ]
    },
    {
      "cell_type": "markdown",
      "metadata": {
        "_uuid": "fd204caf88b1b7b9edd15ed368719a6f9a48b3ed",
        "id": "7ZVGq2V51t_3",
        "colab_type": "text"
      },
      "source": [
        "## Amount of credit limit grouped by default payment next month\n",
        "\n",
        "Let's visualize the density plot for amount of credit limit (LIMIT_BAL), grouped by default payment next month."
      ]
    },
    {
      "cell_type": "code",
      "metadata": {
        "_uuid": "9798df0ce9321bf990e7fb2f3be19f5608face82",
        "trusted": true,
        "id": "aNYRHIW31t_4",
        "colab_type": "code",
        "colab": {}
      },
      "source": [
        "class_0 = data.loc[data['default payment next month'] == 0][\"LIMIT_BAL\"]\n",
        "class_1 = data.loc[data['default payment next month'] == 1][\"LIMIT_BAL\"]\n",
        "plt.figure(figsize = (14,6))\n",
        "plt.title('Default amount of credit limit  - grouped by Payment Next Month (Density Plot)')\n",
        "sns.set_color_codes(\"pastel\")\n",
        "sns.distplot(class_1,kde=True,bins=200, color=\"red\")\n",
        "sns.distplot(class_0,kde=True,bins=200, color=\"green\")\n",
        "plt.show()"
      ],
      "execution_count": 0,
      "outputs": []
    },
    {
      "cell_type": "markdown",
      "metadata": {
        "_uuid": "95646db55a5e0995a929707e6fd44c0a5d5618ac",
        "id": "6wqtqzbU1t_6",
        "colab_type": "text"
      },
      "source": [
        "Most of defaults are for credit limits 0-100,000 (and density for this interval is larger for defaults than for non-defaults). Larger defaults number are for the amounts of **50,000**, **20,000** and **30,000**."
      ]
    },
    {
      "cell_type": "markdown",
      "metadata": {
        "_uuid": "40da097ab03cd0e9fc5ea989da1d89c92cb7e21b",
        "id": "VZZ9AgpO1t_7",
        "colab_type": "text"
      },
      "source": [
        "## Credit limit vs. sex\n",
        "\n",
        "Let's check the credit limit distribution vs. sex. For the sex, 1 stands for male and 2 for female."
      ]
    },
    {
      "cell_type": "code",
      "metadata": {
        "_uuid": "72ff6c3fd8a0934f5031951801ab948c6b296d77",
        "trusted": true,
        "id": "Npn4Yibc1t_7",
        "colab_type": "code",
        "colab": {}
      },
      "source": [
        "fig, (ax1, ax2) = plt.subplots(ncols=2, figsize=(12,6))\n",
        "s = sns.boxplot(ax = ax1, x=\"SEX\", y=\"LIMIT_BAL\", hue=\"SEX\",data=data, palette=\"PRGn\",showfliers=True)\n",
        "s = sns.boxplot(ax = ax2, x=\"SEX\", y=\"LIMIT_BAL\", hue=\"SEX\",data=data, palette=\"PRGn\",showfliers=False)\n",
        "plt.show();"
      ],
      "execution_count": 0,
      "outputs": []
    },
    {
      "cell_type": "markdown",
      "metadata": {
        "_uuid": "b01cbd6fb011fd3fd7e252e569f6a5ba46aebf6a",
        "id": "rP22mTZL1t_9",
        "colab_type": "text"
      },
      "source": [
        "The limit credit amount is quite balanced between sexes. The males have a slightly smaller Q2 and larger Q3 and Q4 and a lower mean. The female have a larger outlier max value (1M NT dollars)."
      ]
    },
    {
      "cell_type": "markdown",
      "metadata": {
        "_uuid": "1506dcdccb8aa2c7b81f5414b1f8bb7a60090b82",
        "id": "1jpHEh-I1t_9",
        "colab_type": "text"
      },
      "source": [
        "## Features correlation\n",
        "\n",
        "\n",
        "For the numeric values, let's represent the features correlation.\n",
        "\n",
        "\n",
        "Let's check the correlation of Amount of bill statement in April - September 2005."
      ]
    },
    {
      "cell_type": "code",
      "metadata": {
        "_uuid": "7035f4813494ee6f34f975f479d966682879472d",
        "trusted": true,
        "id": "gssB-onV1t_-",
        "colab_type": "code",
        "colab": {}
      },
      "source": [
        "var = ['BILL_AMT1','BILL_AMT2','BILL_AMT3','BILL_AMT4','BILL_AMT5','BILL_AMT6']\n",
        "\n",
        "plt.figure(figsize = (8,8))\n",
        "plt.title('Amount of bill statement (Apr-Sept) \\ncorrelation plot (Pearson)')\n",
        "corr = data[var].corr()\n",
        "sns.heatmap(corr,xticklabels=corr.columns,yticklabels=corr.columns,linewidths=.1,vmin=-1, vmax=1)\n",
        "plt.show()"
      ],
      "execution_count": 0,
      "outputs": []
    },
    {
      "cell_type": "markdown",
      "metadata": {
        "_uuid": "bbfc979befbe1c8363a97a2a69524c474be06d2a",
        "id": "JmJzl4RK1uAA",
        "colab_type": "text"
      },
      "source": [
        "Correlation is decreasing with distance between months. Lowest correlations are between Sept-April.\n",
        "\n",
        "\n",
        "Let's check the correlation of Amount of previous payment in April - September 2005."
      ]
    },
    {
      "cell_type": "code",
      "metadata": {
        "_uuid": "2b144559a50de07d20577d0f81e34a19ccad9d0b",
        "trusted": true,
        "id": "HtruA6ku1uAA",
        "colab_type": "code",
        "colab": {}
      },
      "source": [
        "var = ['PAY_AMT1', 'PAY_AMT2', 'PAY_AMT3', 'PAY_AMT4', 'PAY_AMT5']\n",
        "\n",
        "plt.figure(figsize = (8,8))\n",
        "plt.title('Amount of previous payment (Apr-Sept) \\ncorrelation plot (Pearson)')\n",
        "corr = data[var].corr()\n",
        "sns.heatmap(corr,xticklabels=corr.columns,yticklabels=corr.columns,linewidths=.1,vmin=-1, vmax=1)\n",
        "plt.show()"
      ],
      "execution_count": 0,
      "outputs": []
    },
    {
      "cell_type": "markdown",
      "metadata": {
        "_uuid": "c9d47399c40e9a5ad0201b04a6cd2b0c260960ac",
        "id": "Wlm_1IaC1uAD",
        "colab_type": "text"
      },
      "source": [
        "There are no correlations between amounts of previous payments for April-Sept 2005.\n",
        "\n",
        "Let's check the correlation between Repayment status in April - September 2005."
      ]
    },
    {
      "cell_type": "code",
      "metadata": {
        "_uuid": "a13839465e9821dfa37e023a2162c57b6cf5e50f",
        "trusted": true,
        "id": "xnarE3ok1uAE",
        "colab_type": "code",
        "colab": {}
      },
      "source": [
        "var = ['PAY_0','PAY_2', 'PAY_3', 'PAY_4', 'PAY_5', 'PAY_6']\n",
        "\n",
        "plt.figure(figsize = (8,8))\n",
        "plt.title('Repayment status (Apr-Sept) \\ncorrelation plot (Pearson)')\n",
        "corr = data[var].corr()\n",
        "sns.heatmap(corr,xticklabels=corr.columns,yticklabels=corr.columns,linewidths=.1,vmin=-1, vmax=1)\n",
        "plt.show()"
      ],
      "execution_count": 0,
      "outputs": []
    },
    {
      "cell_type": "markdown",
      "metadata": {
        "_uuid": "f8d995583794380d13d912ee16708a810264a596",
        "id": "qcjdppMm1uAI",
        "colab_type": "text"
      },
      "source": [
        "Correlation is decreasing with distance between months. Lowest correlations are between Sept-April.\n"
      ]
    },
    {
      "cell_type": "markdown",
      "metadata": {
        "_uuid": "15585be1ea3a15dfa71f94dfa3b3e2eecbb4860b",
        "id": "Jy6rbF-d1uAJ",
        "colab_type": "text"
      },
      "source": [
        "## Sex, Education, Age and Marriage\n",
        "\n",
        "\n",
        "Let's show sex, education, age and marriage distributions.\n",
        "\n",
        "We start by showing the boxplots with age distribution grouped by marriage status and sex.\n",
        "\n",
        "Marriage status meaning is:\n",
        "\n",
        "* 0 : unknown (let's consider as others as well)\n",
        "* 1 : married\n",
        "* 2 : single\n",
        "* 3 : others\n",
        "\n",
        "Sex meaning is:\n",
        "\n",
        "* 1 : male\n",
        "* 2 : female\n"
      ]
    },
    {
      "cell_type": "code",
      "metadata": {
        "_uuid": "1cc27afe1ac18475a587fa48c2546a772ba113d7",
        "trusted": true,
        "id": "oF08-knQ1uAK",
        "colab_type": "code",
        "colab": {}
      },
      "source": [
        "def boxplot_variation(feature1, feature2, feature3, width=16):\n",
        "    fig, ax1 = plt.subplots(ncols=1, figsize=(width,6))\n",
        "    s = sns.boxplot(ax = ax1, x=feature1, y=feature2, hue=feature3,\n",
        "                data=data, palette=\"PRGn\",showfliers=False)\n",
        "    s.set_xticklabels(s.get_xticklabels(),rotation=90)\n",
        "    plt.show();"
      ],
      "execution_count": 0,
      "outputs": []
    },
    {
      "cell_type": "code",
      "metadata": {
        "_uuid": "171bf9085be850d9f2379e747a8426bb2393eef0",
        "trusted": true,
        "id": "D2k1NKpW1uAL",
        "colab_type": "code",
        "colab": {}
      },
      "source": [
        "boxplot_variation('MARRIAGE','AGE', 'SEX',8)"
      ],
      "execution_count": 0,
      "outputs": []
    },
    {
      "cell_type": "markdown",
      "metadata": {
        "_uuid": "cd69a5d738b7fc2a2e0ee831f52df7ab58af8fec",
        "id": "dbS4zwRu1uAN",
        "colab_type": "text"
      },
      "source": [
        "It looks like Married status 3 (others), with mean values over 40 and Q4 values over 60 means mostly vidowed or divorced whilst Married status 0 could be not specified or divorced, as Q1 values are above values for married of both sexes.\n",
        "\n",
        "Married males have mean age above married women. Unmarried males have mean value for age above unmarried women as well but closer. Q3 abd Q4 values for married man are above corresponding values for married women.\n",
        "\n",
        "\n",
        "Let's show the boxplots with age distribution grouped by education and marriage.\n",
        "\n",
        "Education status meaning is:\n",
        "\n",
        "* 1 : graduate school\n",
        "* 2 : university\n",
        "* 3 : high school\n",
        "* 4 : others\n",
        "* 5 : unknown\n",
        "* 6 : unknow\n"
      ]
    },
    {
      "cell_type": "code",
      "metadata": {
        "_uuid": "cab11aebd3ab5b2e413715c4018d7797aab8f589",
        "trusted": true,
        "id": "PN76R-R11uAO",
        "colab_type": "code",
        "colab": {}
      },
      "source": [
        "boxplot_variation('EDUCATION','AGE', 'MARRIAGE',12)"
      ],
      "execution_count": 0,
      "outputs": []
    },
    {
      "cell_type": "markdown",
      "metadata": {
        "_uuid": "dccd80920ad4f691b4bd1eb235eaec7cc60e1d76",
        "id": "pFWBJOpp1uAQ",
        "colab_type": "text"
      },
      "source": [
        "## Age, sex and credit amount limit\n",
        "\n",
        "\n",
        "Let's show the  boxplots with credit amount limit distribution grouped by age and sex.\n",
        "\n"
      ]
    },
    {
      "cell_type": "code",
      "metadata": {
        "_uuid": "061e4e1659f8f2ff296c019792a00c4fc220f965",
        "trusted": true,
        "id": "sbFixjQS1uAR",
        "colab_type": "code",
        "colab": {}
      },
      "source": [
        "boxplot_variation('AGE','LIMIT_BAL', 'SEX',16)"
      ],
      "execution_count": 0,
      "outputs": []
    },
    {
      "cell_type": "markdown",
      "metadata": {
        "_uuid": "6f8f6e53c1e11982e0b93ea8343edbc8c4ff5626",
        "id": "NT4gyn3h1uAU",
        "colab_type": "text"
      },
      "source": [
        "Mean, Q3 and Q4 values are increasing for both male and female with age until aroung 35 years and then they are oscilating and get to a maximum of Q4 for males at age 64.\n",
        "\n",
        "Mean values are generally smaller for males than for females, with few exceptions, for example at age 39, 48, until approximately 60, where mean values for males are generally larger than for females.\n",
        "\n"
      ]
    },
    {
      "cell_type": "markdown",
      "metadata": {
        "_uuid": "4e0a341c5021a2fa9b2a83d904ecf93f7fdafb13",
        "id": "-YC4IcqE1uAW",
        "colab_type": "text"
      },
      "source": [
        "## Marriage status, education level and credit amount limit\n",
        "\n",
        "\n",
        "Let's show the  boxplots with credit amount limit distribution grouped by marriage status and education level."
      ]
    },
    {
      "cell_type": "code",
      "metadata": {
        "_uuid": "12a00ca1674ae0fa4bbe4be1c88d6e3b7f982ed4",
        "trusted": true,
        "id": "aP19IC0C1uAX",
        "colab_type": "code",
        "colab": {}
      },
      "source": [
        "boxplot_variation('MARRIAGE','LIMIT_BAL', 'EDUCATION',12)"
      ],
      "execution_count": 0,
      "outputs": []
    },
    {
      "cell_type": "markdown",
      "metadata": {
        "_uuid": "73afc4261ca3b69f57522d88b5d47fd09aa1719b",
        "id": "P0DY4QKW1uAa",
        "colab_type": "text"
      },
      "source": [
        "# Predictive models\n",
        "\n"
      ]
    },
    {
      "cell_type": "markdown",
      "metadata": {
        "_uuid": "596403a32cf55fdecf560e1d224d56b0f05b27d3",
        "id": "V-BrOL_y1uAa",
        "colab_type": "text"
      },
      "source": [
        "### Define predictors and target values\n",
        "\n",
        "Let's define the predictor features and the target features. Categorical features, if any, are also defined. In our case, there are no categorical feature."
      ]
    },
    {
      "cell_type": "code",
      "metadata": {
        "_uuid": "ed83bdac133ff9798c30e47251b9df9b1caaebf2",
        "trusted": true,
        "id": "QJaQLrJG1uAb",
        "colab_type": "code",
        "colab": {}
      },
      "source": [
        "target = 'default.payment.next.month'\n",
        "predictors = [  'LIMIT_BAL', 'SEX', 'EDUCATION', 'MARRIAGE', 'AGE', \n",
        "                'PAY_0', 'PAY_2', 'PAY_3', 'PAY_4', 'PAY_5', 'PAY_6', \n",
        "                'BILL_AMT1','BILL_AMT2', 'BILL_AMT3', 'BILL_AMT4', 'BILL_AMT5', 'BILL_AMT6',\n",
        "                'PAY_AMT1', 'PAY_AMT2', 'PAY_AMT3', 'PAY_AMT4', 'PAY_AMT5', 'PAY_AMT6']"
      ],
      "execution_count": 0,
      "outputs": []
    },
    {
      "cell_type": "markdown",
      "metadata": {
        "_uuid": "87ecb2db1421b29644b62775a84a874a9d2d4d4b",
        "id": "vfsSBK2w1uAd",
        "colab_type": "text"
      },
      "source": [
        "### Split data in train and validation set\n",
        "\n",
        "Let's define train and validation sets."
      ]
    },
    {
      "cell_type": "code",
      "metadata": {
        "_uuid": "7cba85c44c5b6522daa9a0f7cea8529034c0fbe2",
        "trusted": true,
        "id": "pwj75g3R1uAd",
        "colab_type": "code",
        "colab": {}
      },
      "source": [
        "train_df, val_df = train_test_split(data, test_size=0.25, random_state=42, shuffle=True )"
      ],
      "execution_count": 0,
      "outputs": []
    },
    {
      "cell_type": "markdown",
      "metadata": {
        "_uuid": "69bcbd2d41e85d4d9ef387002b38eea21b0db33d",
        "id": "0k-ll01k1uAf",
        "colab_type": "text"
      },
      "source": [
        "We also make copies of the train_df and val_df for later usage."
      ]
    },
    {
      "cell_type": "code",
      "metadata": {
        "_uuid": "39e5bd937ae1eb4fdf4157aba7401ce06e1552a4",
        "trusted": true,
        "id": "pvbGDNKr1uAf",
        "colab_type": "code",
        "colab": {}
      },
      "source": [
        "train_df_bkp = train_df.copy()\n",
        "val_df_bkp = val_df.copy()"
      ],
      "execution_count": 0,
      "outputs": []
    },
    {
      "cell_type": "markdown",
      "metadata": {
        "_uuid": "096f1893c45701dd88e0f96b680a21d426a6925c",
        "id": "Reeozq8l1uAh",
        "colab_type": "text"
      },
      "source": [
        "## RandomForestClassifier\n",
        "\n",
        "\n"
      ]
    },
    {
      "cell_type": "markdown",
      "metadata": {
        "_uuid": "e899349135d54641ab939fff53679195af84762e",
        "id": "1xtjRXsA1uAj",
        "colab_type": "text"
      },
      "source": [
        "Let's run a model using the training set for training. Then, we will use the validation set for validation. \n",
        "\n",
        "### Metric\n",
        "\n",
        "We will use as validation criterion **GINI**, which formula is **GINI = 2 * (AUC) - 1**, where **AUC** is the **Receiver Operating Characteristic - Area Under Curve (ROC-AUC)** .  Number of estimators is set to **100** and number of parallel jobs is set to **4**.\n",
        "\n",
        "We start by initializing the RandomForestClassifier."
      ]
    },
    {
      "cell_type": "code",
      "metadata": {
        "_uuid": "0b68705dd0608bd3c7aa47155a36267eab7579f5",
        "trusted": true,
        "id": "e1V2xFoA1uAj",
        "colab_type": "code",
        "colab": {}
      },
      "source": [
        "clf = RandomForestClassifier(n_jobs=-1, \n",
        "                             random_state=42,\n",
        "                             criterion='gini',\n",
        "                             n_estimators=350,\n",
        "                             verbose=False)"
      ],
      "execution_count": 0,
      "outputs": []
    },
    {
      "cell_type": "markdown",
      "metadata": {
        "_uuid": "9b8f790b4e490d9027101b00280f02db4edce713",
        "id": "cnObjfn71uAo",
        "colab_type": "text"
      },
      "source": [
        "Let's train the **RandonForestClassifier** using the **train_df** data and **fit** function."
      ]
    },
    {
      "cell_type": "code",
      "metadata": {
        "id": "b9jBdPZvAI0V",
        "colab_type": "code",
        "colab": {}
      },
      "source": [
        "predictors = train_df.drop(columns=['default payment next month']).columns.values\n",
        "target = 'default payment next month'"
      ],
      "execution_count": 0,
      "outputs": []
    },
    {
      "cell_type": "code",
      "metadata": {
        "_uuid": "e192077d77551fa432b472ad58d96e4724e005e2",
        "trusted": true,
        "id": "qrcX1kXE1uAp",
        "colab_type": "code",
        "colab": {}
      },
      "source": [
        "clf.fit(train_df[predictors].values, train_df[target].values)"
      ],
      "execution_count": 0,
      "outputs": []
    },
    {
      "cell_type": "markdown",
      "metadata": {
        "_uuid": "8ceaf179b74cabe9e1c2375196d8016e5d636198",
        "id": "HLiY2_1c1uAr",
        "colab_type": "text"
      },
      "source": [
        "Let's now predict the **target** values for the **val_df** data, using **predict** function."
      ]
    },
    {
      "cell_type": "code",
      "metadata": {
        "_uuid": "5e7f117e78f12dd595303b362026069882202346",
        "trusted": true,
        "id": "3FcPWmF21uAs",
        "colab_type": "code",
        "colab": {}
      },
      "source": [
        "preds = clf.predict(val_df[predictors])"
      ],
      "execution_count": 0,
      "outputs": []
    },
    {
      "cell_type": "markdown",
      "metadata": {
        "_uuid": "5c1204cda5a396d1032b6df71a2a88f072988fcd",
        "id": "KNxAuFFi1uAu",
        "colab_type": "text"
      },
      "source": [
        "Let's also visualize the features importance.\n",
        "\n",
        "### Features importance"
      ]
    },
    {
      "cell_type": "code",
      "metadata": {
        "_uuid": "9e71725dd69c24eeb86fd46193c8aa92501b7a87",
        "trusted": true,
        "id": "nsQEjcnx1uAu",
        "colab_type": "code",
        "colab": {}
      },
      "source": [
        "tmp = pd.DataFrame({'Feature': predictors, 'Feature importance': clf.feature_importances_})\n",
        "tmp = tmp.sort_values(by='Feature importance',ascending=False)\n",
        "plt.figure(figsize = (7,4))\n",
        "plt.title('Features importance',fontsize=14)\n",
        "s = sns.barplot(x='Feature',y='Feature importance',data=tmp)\n",
        "s.set_xticklabels(s.get_xticklabels(),rotation=90)\n",
        "plt.show()   \n"
      ],
      "execution_count": 0,
      "outputs": []
    },
    {
      "cell_type": "markdown",
      "metadata": {
        "_uuid": "5aabd45f5affab5f3cfd1759bf030b1851a5d3f4",
        "id": "M9jsAB-T1uAw",
        "colab_type": "text"
      },
      "source": [
        "The most important features are **PAY_0**, **AGE**, **BILL_AMT1**, **LIMIT_BAL**, **BILL_AMT2**, **BILL_AMT3**.\n",
        "\n",
        "\n",
        "### Confusion matrix\n",
        "\n",
        "Let's show a confusion matrix for the results we obtained. "
      ]
    },
    {
      "cell_type": "code",
      "metadata": {
        "_uuid": "099090571caa94dbd3c4c5c8b44786b5825d1d24",
        "trusted": true,
        "id": "bliqeKNQ1uAw",
        "colab_type": "code",
        "colab": {}
      },
      "source": [
        "cm = pd.crosstab(val_df[target].values, preds, rownames=['Actual'], colnames=['Predicted'])\n",
        "fig, (ax1) = plt.subplots(ncols=1, figsize=(5,5))\n",
        "sns.heatmap(cm, \n",
        "            xticklabels=['Not Default', 'Default'],\n",
        "            yticklabels=['Not Default', 'Default'],\n",
        "            annot=True,ax=ax1,\n",
        "            linewidths=.2,linecolor=\"Darkblue\", cmap=\"Blues\")\n",
        "plt.title('Confusion Matrix', fontsize=14)\n",
        "plt.show()"
      ],
      "execution_count": 0,
      "outputs": []
    },
    {
      "cell_type": "markdown",
      "metadata": {
        "_uuid": "0047e64d40a20807775967c880f803e0813cfd09",
        "id": "gmvo3cOm1uAz",
        "colab_type": "text"
      },
      "source": [
        "We also calculate area under curve (receiver operator characteristic)."
      ]
    },
    {
      "cell_type": "code",
      "metadata": {
        "_uuid": "b418598145d37cc5773fe43b72b3383b3c213345",
        "trusted": true,
        "id": "DWngJlOV1uAz",
        "colab_type": "code",
        "colab": {}
      },
      "source": [
        "roc_auc_score(val_df[target].values, preds)"
      ],
      "execution_count": 0,
      "outputs": []
    },
    {
      "cell_type": "markdown",
      "metadata": {
        "_uuid": "38c54fa21fdbaf4d839ec405503ba0c595f06221",
        "id": "xHb_6lqx1uA5",
        "colab_type": "text"
      },
      "source": [
        "The **ROC-AUC** score obtained with **RandomForrestClassifier** is **0.66**.\n",
        "\n",
        "\n",
        "Let's use for RandomForrestClassifier **dummified variables** for the **categorical features**.\n",
        "\n",
        "\n",
        "We start by defining the categorical features.\n",
        "\n",
        "\n",
        "### RandomForrest with OneHotEncoder"
      ]
    },
    {
      "cell_type": "code",
      "metadata": {
        "trusted": true,
        "_uuid": "93dad6172fdd5f8318439a39844f587ed2c2d375",
        "id": "b2by1wb11uA6",
        "colab_type": "code",
        "colab": {}
      },
      "source": [
        "cat_features = ['EDUCATION', 'SEX', 'MARRIAGE', 'PAY_0', 'PAY_2', 'PAY_3', 'PAY_4', 'PAY_5', 'PAY_6']"
      ],
      "execution_count": 0,
      "outputs": []
    },
    {
      "cell_type": "code",
      "metadata": {
        "trusted": true,
        "_uuid": "47e3e1a5f242a891cce4d36f895fea99d61c42c7",
        "id": "HmNqXPsB1uA8",
        "colab_type": "code",
        "colab": {}
      },
      "source": [
        "train_f_df = pd.get_dummies(train_df_bkp, columns = cat_features)\n",
        "val_f_df = pd.get_dummies(val_df_bkp, columns = cat_features)"
      ],
      "execution_count": 0,
      "outputs": []
    },
    {
      "cell_type": "code",
      "metadata": {
        "trusted": true,
        "_uuid": "87da5bd3c3eb8270452520f32903e53325a6256c",
        "id": "qjq1NIW81uBA",
        "colab_type": "code",
        "colab": {}
      },
      "source": [
        "print(\"Default of Credit Card Clients train data -  rows:\",train_f_df.shape[0],\" columns:\", train_f_df.shape[1])\n",
        "print(\"Default of Credit Card Clients val  data -  rows:\",val_f_df.shape[0],\" columns:\", val_f_df.shape[1])"
      ],
      "execution_count": 0,
      "outputs": []
    },
    {
      "cell_type": "markdown",
      "metadata": {
        "_uuid": "1057c04a9b4d6fb14e461dd6a2ea13cdafffaebd",
        "id": "NhvIGnp91uBC",
        "colab_type": "text"
      },
      "source": [
        "Because train and validation data does not have the same number of columns, we will align them."
      ]
    },
    {
      "cell_type": "code",
      "metadata": {
        "trusted": false,
        "_uuid": "b00b625b9778665020897d4b3bdeee8d5799441a",
        "id": "vM8uOk_l1uBD",
        "colab_type": "code",
        "colab": {}
      },
      "source": [
        "train_fa_df, val_fa_df = train_f_df.align(val_f_df, join='outer', axis=1, fill_value=0)"
      ],
      "execution_count": 0,
      "outputs": []
    },
    {
      "cell_type": "markdown",
      "metadata": {
        "_uuid": "18bde056f74f1b862fa1b82c916cabff5caed067",
        "id": "zlCQqVCC1uBF",
        "colab_type": "text"
      },
      "source": [
        "Let's check again the data."
      ]
    },
    {
      "cell_type": "code",
      "metadata": {
        "trusted": false,
        "_uuid": "e956c355ab32a76c420371cdab1deeee1bb61026",
        "id": "UXUX6p341uBG",
        "colab_type": "code",
        "colab": {}
      },
      "source": [
        "print(\"Default of Credit Card Clients train data -  rows:\",train_fa_df.shape[0],\" columns:\", train_fa_df.shape[1])\n",
        "print(\"Default of Credit Card Clients val  data -  rows:\",val_fa_df.shape[0],\" columns:\", val_fa_df.shape[1])"
      ],
      "execution_count": 0,
      "outputs": []
    },
    {
      "cell_type": "code",
      "metadata": {
        "trusted": false,
        "_uuid": "ef0289dee21fecb61fa7d87b474833b98a84dfa3",
        "id": "SCwfKPwd1uBK",
        "colab_type": "code",
        "colab": {}
      },
      "source": [
        "train_fa_df.head(5)"
      ],
      "execution_count": 0,
      "outputs": []
    },
    {
      "cell_type": "code",
      "metadata": {
        "trusted": false,
        "_uuid": "b16124f36b0b874048fbb23047db99cd77e8f612",
        "id": "0ZnrZG6n1uBP",
        "colab_type": "code",
        "colab": {}
      },
      "source": [
        "val_fa_df.head(5)"
      ],
      "execution_count": 0,
      "outputs": []
    },
    {
      "cell_type": "markdown",
      "metadata": {
        "_uuid": "1eedb88befc2cf7d65058678a14065501cf7b113",
        "id": "2q35k5fS1uBR",
        "colab_type": "text"
      },
      "source": [
        "Let's define the target and predictors lists."
      ]
    },
    {
      "cell_type": "code",
      "metadata": {
        "trusted": false,
        "_uuid": "6abb7d724ee1f8436dd1f0d929ef7d817a74a302",
        "id": "PvLIAbZX1uBS",
        "colab_type": "code",
        "colab": {}
      },
      "source": [
        "target_f = 'default payment next month'\n",
        "predictors_f = ['AGE', 'BILL_AMT1', 'BILL_AMT2', 'BILL_AMT3', 'BILL_AMT4',\n",
        "       'BILL_AMT5', 'BILL_AMT6', 'EDUCATION_0', 'EDUCATION_1',\n",
        "       'EDUCATION_2', 'EDUCATION_3', 'EDUCATION_4', 'EDUCATION_5',\n",
        "       'EDUCATION_6', 'LIMIT_BAL', 'MARRIAGE_0', 'MARRIAGE_1',\n",
        "       'MARRIAGE_2', 'MARRIAGE_3', 'PAY_0_-1', 'PAY_0_-2', 'PAY_0_0',\n",
        "       'PAY_0_1', 'PAY_0_2', 'PAY_0_3', 'PAY_0_4', 'PAY_0_5', 'PAY_0_6',\n",
        "       'PAY_0_7', 'PAY_0_8', 'PAY_2_-1', 'PAY_2_-2', 'PAY_2_0', 'PAY_2_1',\n",
        "       'PAY_2_2', 'PAY_2_3', 'PAY_2_4', 'PAY_2_5', 'PAY_2_6', 'PAY_2_7',\n",
        "       'PAY_2_8', 'PAY_3_-1', 'PAY_3_-2', 'PAY_3_0', 'PAY_3_1', 'PAY_3_2',\n",
        "       'PAY_3_3', 'PAY_3_4', 'PAY_3_5', 'PAY_3_6', 'PAY_3_7', 'PAY_3_8',\n",
        "       'PAY_4_-1', 'PAY_4_-2', 'PAY_4_0', 'PAY_4_1', 'PAY_4_2', 'PAY_4_3',\n",
        "       'PAY_4_4', 'PAY_4_5', 'PAY_4_6', 'PAY_4_7', 'PAY_4_8', 'PAY_5_-1',\n",
        "       'PAY_5_-2', 'PAY_5_0', 'PAY_5_2', 'PAY_5_3', 'PAY_5_4', 'PAY_5_5',\n",
        "       'PAY_5_6', 'PAY_5_7', 'PAY_5_8', 'PAY_6_-1', 'PAY_6_-2', 'PAY_6_0',\n",
        "       'PAY_6_2', 'PAY_6_3', 'PAY_6_4', 'PAY_6_5', 'PAY_6_6', 'PAY_6_7',\n",
        "       'PAY_6_8', 'PAY_AMT1', 'PAY_AMT2', 'PAY_AMT3', 'PAY_AMT4',\n",
        "       'PAY_AMT5', 'PAY_AMT6', 'SEX_1', 'SEX_2']"
      ],
      "execution_count": 0,
      "outputs": []
    },
    {
      "cell_type": "markdown",
      "metadata": {
        "_uuid": "95a702391e3c21dc91fe1e54da4b90de4dcdd561",
        "id": "eWGrtppX1uBU",
        "colab_type": "text"
      },
      "source": [
        "Let's train the **RandonForestClassifier** using the **train_fa_df** data and **fit** function."
      ]
    },
    {
      "cell_type": "code",
      "metadata": {
        "trusted": false,
        "_uuid": "d937c07225cef0c88c119679c90401b489560247",
        "id": "tnMj68Gn1uBV",
        "colab_type": "code",
        "colab": {}
      },
      "source": [
        "clf.fit(train_fa_df[predictors_f], train_df[target_f].values)"
      ],
      "execution_count": 0,
      "outputs": []
    },
    {
      "cell_type": "markdown",
      "metadata": {
        "_uuid": "10401c7839bdb93a1f4e30105ce50ae25ffb7578",
        "id": "7rdhkM1F1uBX",
        "colab_type": "text"
      },
      "source": [
        "Let's now predict the **target** values for the **val_df** data, using **predict** function."
      ]
    },
    {
      "cell_type": "code",
      "metadata": {
        "trusted": false,
        "_uuid": "2701d486cbf5e2d057d5c99b83e13df082edf7d2",
        "id": "V-Jo9aL11uBY",
        "colab_type": "code",
        "colab": {}
      },
      "source": [
        "preds = clf.predict(val_fa_df[predictors_f])"
      ],
      "execution_count": 0,
      "outputs": []
    },
    {
      "cell_type": "markdown",
      "metadata": {
        "_uuid": "f6037237305387f0898ea2c2c086be4a4f55dba5",
        "id": "VClfOmJg1uBc",
        "colab_type": "text"
      },
      "source": [
        "Let's also visualize the features importance. \n",
        "\n",
        "#### Features importance"
      ]
    },
    {
      "cell_type": "code",
      "metadata": {
        "trusted": false,
        "_uuid": "54c08e38ff34f2c79e3d656cd5e5378c6289ded2",
        "id": "9RRl8ZIA1uBd",
        "colab_type": "code",
        "colab": {}
      },
      "source": [
        "tmp = pd.DataFrame({'Feature': predictors_f, 'Feature importance': clf.feature_importances_})\n",
        "tmp = tmp.sort_values(by='Feature importance',ascending=False)\n",
        "plt.figure(figsize = (16,4))\n",
        "plt.title('Features importance',fontsize=14)\n",
        "s = sns.barplot(x='Feature',y='Feature importance',data=tmp)\n",
        "s.set_xticklabels(s.get_xticklabels(),rotation=90)\n",
        "plt.show()"
      ],
      "execution_count": 0,
      "outputs": []
    },
    {
      "cell_type": "markdown",
      "metadata": {
        "_uuid": "058f244b751884360cbc9ba27c7eec842131f8ac",
        "id": "dDuClp3f1uBh",
        "colab_type": "text"
      },
      "source": [
        "The most important features are **AGE**, **LIMIT_BAL**, **BILL_AMT1**, **PAY_0_2**, **BILL_AMT2**, **BILL_AMT3**."
      ]
    },
    {
      "cell_type": "markdown",
      "metadata": {
        "_uuid": "81f3ff9013ac7f6c7a0c9c06e0ad746b6d056901",
        "id": "iTtecKG41uBh",
        "colab_type": "text"
      },
      "source": [
        "#### Confusion matrix\n",
        "\n",
        "Let's show a confusion matrix for the results we obtained. "
      ]
    },
    {
      "cell_type": "code",
      "metadata": {
        "trusted": false,
        "_uuid": "2b7630b8a1f47a7bc9e6736d082baf05686024f1",
        "id": "Az3f6OVJ1uBj",
        "colab_type": "code",
        "colab": {}
      },
      "source": [
        "cm = pd.crosstab(val_fa_df[target].values, preds, rownames=['Actual'], colnames=['Predicted'])\n",
        "fig, (ax1) = plt.subplots(ncols=1, figsize=(5,5))\n",
        "sns.heatmap(cm, \n",
        "            xticklabels=['Not Default', 'Default'],\n",
        "            yticklabels=['Not Default', 'Default'],\n",
        "            annot=True,ax=ax1,\n",
        "            linewidths=.2,linecolor=\"Darkblue\", cmap=\"Blues\")\n",
        "plt.title('Confusion Matrix', fontsize=14)\n",
        "plt.show()"
      ],
      "execution_count": 0,
      "outputs": []
    },
    {
      "cell_type": "markdown",
      "metadata": {
        "_uuid": "40d1a49db28a58945c7ed3eab78f14e692c62c6a",
        "id": "g2UVQWiM1uBm",
        "colab_type": "text"
      },
      "source": [
        "We also calculate area under curve (receiver operator characteristic)"
      ]
    },
    {
      "cell_type": "code",
      "metadata": {
        "trusted": false,
        "_uuid": "74b9bf529b8664712eb2b7ba507542c415e00d3a",
        "id": "yq8ZOn_W1uBm",
        "colab_type": "code",
        "colab": {}
      },
      "source": [
        "roc_auc_score(val_fa_df[target].values, preds)"
      ],
      "execution_count": 0,
      "outputs": []
    },
    {
      "cell_type": "markdown",
      "metadata": {
        "_uuid": "adf17e8c4a11913d8f24621f5282614cf9d4830c",
        "id": "tf2577HS1uBr",
        "colab_type": "text"
      },
      "source": [
        "With the dummified features, the improvement of the AUC score is quite small."
      ]
    },
    {
      "cell_type": "code",
      "metadata": {
        "_uuid": "0fdfc823cd0f0bdd10a8dc5f8773a8c6be053509",
        "trusted": false,
        "id": "heSRSwHz1uCy",
        "colab_type": "code",
        "colab": {}
      },
      "source": [
        "params = {\n",
        "          'boosting_type': 'gbdt',\n",
        "          'objective': 'binary',\n",
        "          'metric':'auc',\n",
        "          'learning_rate': 0.05,\n",
        "          'num_leaves': 7,  # we should let it be smaller than 2^(max_depth)\n",
        "          'max_depth': 4,  # -1 means no limit\n",
        "          'min_child_samples': 100,  # Minimum number of data need in a child(min_data_in_leaf)\n",
        "          'max_bin': 100,  # Number of bucketed bin for feature values\n",
        "          'subsample': 0.9,  # Subsample ratio of the training instance.\n",
        "          'subsample_freq': 1,  # frequence of subsample, <=0 means no enable\n",
        "          'colsample_bytree': 0.7,  # Subsample ratio of columns when constructing each tree.\n",
        "          'min_child_weight': 0,  # Minimum sum of instance weight(hessian) needed in a child(leaf)\n",
        "          'min_split_gain': 0,  # lambda_l1, lambda_l2 and min_gain_to_split to regularization\n",
        "          'nthread': 8,\n",
        "          'verbose': 0,\n",
        "          'scale_pos_weight':50, # because training data is sightly unbalanced \n",
        "         }"
      ],
      "execution_count": 0,
      "outputs": []
    },
    {
      "cell_type": "markdown",
      "metadata": {
        "_uuid": "916f113e9975149edcf218d5037ff0a6f9faae4a",
        "id": "vAhyVKnT1uC-",
        "colab_type": "text"
      },
      "source": [
        "# Conclusions"
      ]
    },
    {
      "cell_type": "markdown",
      "metadata": {
        "_uuid": "0dc04fd9116d35e7ac6720aafd88adb6b1a3bdaa",
        "id": "Py2cJjWU1uDA",
        "colab_type": "text"
      },
      "source": [
        "We investigated the data, checking for data unbalancing, visualizing the features and understanding the relationship between different features.   \n",
        "\n",
        "We Concluded with **RandomForrestClassifier**, for which we obtained an AUC scode of **0.65**. "
      ]
    }
  ]
}